{
 "cells": [
  {
   "cell_type": "code",
   "execution_count": 1,
   "metadata": {
    "collapsed": true
   },
   "outputs": [],
   "source": [
    "##################################\n",
    "#\n",
    "# Initial implementation of linear logic recurrent neural network\n",
    "#\n",
    "# The architecture is a modified RNN, see the paper \"Linear logic and recurrent neural networks\".\n",
    "# Our inputs are sequences of symbols taken from an alphabet of size num_classes. The length\n",
    "# of the sequences is N. Our outputs are also sequences of length N from the same alphabet.\n",
    "#\n",
    "# An input symbol is encoded as a one_hot vector, so our inputs are sequences of one-hot vectors\n",
    "# of size num_classes. Put another way, this is the dimension of the input space.\n",
    "#\n",
    "# The function to be learned is func_to_learn\n",
    "#\n",
    "# At present at each time step the RNN simply emits its hidden state. These outputs are\n",
    "# then passed through a fully-connected layer (one by one) to generate the output symbol\n",
    "# at each time step.\n",
    "\n",
    "# TODO:\n",
    "#\n",
    "# Dropout\n",
    "# Layer normalisation\n",
    "# See \"Recurrent neural networks in TensorFlow II\"\n",
    "\n",
    "# Global flags\n",
    "num_classes = 2\n",
    "batch_size = 100\n",
    "state_size = 24\n",
    "input_size = num_classes\n",
    "N = 15 # length of sequences\n",
    "PERCENT_EXAMPLES = 0.1 # number of training examples\n",
    "epoch = 10"
   ]
  },
  {
   "cell_type": "code",
   "execution_count": 2,
   "metadata": {
    "collapsed": false
   },
   "outputs": [],
   "source": [
    "# The next three lines are recommend by TF\n",
    "from __future__ import absolute_import\n",
    "from __future__ import division\n",
    "from __future__ import print_function\n",
    "\n",
    "import tensorflow as tf\n",
    "import numpy as np\n",
    "import collections\n",
    "import six\n",
    "import math\n",
    "\n",
    "from random import shuffle\n",
    "from tensorflow.python.ops import variable_scope as vs\n",
    "from tensorflow.python.ops.rnn_cell import RNNCell\n",
    "from tensorflow.python.ops import array_ops\n",
    "from tensorflow.python.ops import init_ops\n",
    "from tensorflow.python.ops.math_ops import sigmoid\n",
    "from tensorflow.python.ops.math_ops import tanh"
   ]
  },
  {
   "cell_type": "code",
   "execution_count": 3,
   "metadata": {
    "collapsed": false
   },
   "outputs": [],
   "source": [
    "def church(n,A):\n",
    "    if n < 2:\n",
    "        raise ValueError(\"church is expecting an integer > 1\")\n",
    "    if n == 2:\n",
    "        return(tf.matmul(A,A))\n",
    "    if n > 2:\n",
    "        return(tf.matmul(A, church(n-1,A)))\n",
    "    \n",
    "    # This should never be reached\n",
    "    return A"
   ]
  },
  {
   "cell_type": "code",
   "execution_count": 4,
   "metadata": {
    "collapsed": false
   },
   "outputs": [],
   "source": [
    "# In tf.nn.rnn_cell there is a private function _linear that \n",
    "# we have modified here to be used in our LinearLogicRNNCell\n",
    "\n",
    "# A 2D tensor of shape [X,Y] means a matrix with X rows and Y cols\n",
    "# The row index here is interpreted as indexing into a batch.\n",
    "    \n",
    "class LinearLogicRNNCell(RNNCell):\n",
    "    \n",
    "    def __init__(self, num_units, input_size=None, activation=tanh):\n",
    "        if input_size is not None:\n",
    "            logging.warn(\"%s: The input_size parameter is deprecated.\" % self)\n",
    "        self._num_units = num_units\n",
    "        self._activation = activation\n",
    "    \n",
    "    @property\n",
    "    def state_size(self):\n",
    "        return self._num_units\n",
    "\n",
    "    @property\n",
    "    def output_size(self):\n",
    "        return self._num_units\n",
    "\n",
    "    def __call__(self, inputs, state, scope=None):\n",
    "        # the scope business gives a namespace to our weight variable matrix names\n",
    "        # e.g. \"Program\", \"Matrix\" and \"Bias\"\n",
    "        with vs.variable_scope(scope or \"Linear\"): \n",
    "            # Our input is a pair of 2D tensors of shapes [B, input_size] and [B, state_size]\n",
    "            # where B is the batch size.\n",
    "\n",
    "            # array_ops.concat(1,args) is a Tensor of shape [B, input_size + state_size]\n",
    "            # which is obtained by stacking the matrices together horizontally.\n",
    "            args = [inputs,state]\n",
    "            \n",
    "            # every row of inputs (resp. state) has length input_size (resp state_size)\n",
    "            # prog_weights = vs.get_variable(\"Program\", [(input_size+state_size)**2])\n",
    "            # f = lambda x: tf.mul(tf.reshape(tf.matmul(tf.transpose(x),x),[-1]),prog_weights)\n",
    "            # h = array_ops.concat(1, args) # (I|S)\n",
    "            # h2 = tf.expand_dims(h,1)\n",
    "            # h5 = tf.map_fn(f, h2)  \n",
    "                \n",
    "            # Comment out the following line to not add higher monomials\n",
    "            # args = args + [h5]\n",
    "            \n",
    "            # Calculate the total size of arguments on dimension 1.\n",
    "            total_arg_size = 0\n",
    "            shapes = [a.get_shape().as_list() for a in args]\n",
    "\n",
    "            for shape in shapes:\n",
    "                total_arg_size += shape[1]           \n",
    "    \n",
    "            # NOTE: the H and U that are referred to in the RNN update equation of\n",
    "            # the paper are the block parts of the following matrix.\n",
    "            # Also, everything is transposed here compared to the paper, since we\n",
    "            # need rows to correspond to entries in the batch in TensorFlow. So for\n",
    "            # example we actually compute hH + xU + B.\n",
    "            \n",
    "            Lambda = [2,3] # meaning church(2,-), church(3,-)\n",
    "            l = len(Lambda)\n",
    "            #k = 2\n",
    "            \n",
    "            HU = vs.get_variable(\"HU\", [total_arg_size, state_size])\n",
    "            B = vs.get_variable(\"B\", [state_size], initializer=init_ops.constant_initializer(0.0))\n",
    "            #P = vs.get_variable(\"P\", [state_size,l])\n",
    "            #C = vs.get_variable(\"C\", [l])\n",
    "            #Q = vs.get_variable(\"Q\", [state_size,l])\n",
    "            #D = vs.get_variable(\"D\", [k])\n",
    "            V = vs.get_variable(\"V\", [input_size, state_size**2])\n",
    "            #p = self._activation(tf.matmul(state,P) + C)\n",
    "            #q = self._activation(tf.matmul(state,Q) + D)\n",
    "            Vx = tf.matmul(inputs,V)\n",
    "            \n",
    "            # Each row of Vx has state_size**2 entries and is to be interpreted as a matrix\n",
    "            Vx_matrices = tf.reshape(Vx,[-1,state_size,state_size])\n",
    "            f = lambda A: church(2,A)\n",
    "            G = tf.map_fn(f,Vx_matrices)\n",
    "            S = tf.expand_dims(state,1)\n",
    "            G = tf.batch_matmul(S,G)\n",
    "            G = tf.reshape(G,[-1,state_size]) # in each batch, we get state * (Vx)^n\n",
    "            # G is [lambda](Vx)(h)\n",
    "            \n",
    "            res = tf.matmul(array_ops.concat(1, args), HU)\n",
    "            output = self._activation(res + G + B)\n",
    "        return output, output\n",
    "        # note that as currently written the RNN emits its internal state at each time step"
   ]
  },
  {
   "cell_type": "code",
   "execution_count": 5,
   "metadata": {
    "collapsed": true
   },
   "outputs": [],
   "source": [
    "# The function from sequences to sequences that we will try to learn\n",
    "\n",
    "def f_ident(seq):\n",
    "    return seq\n",
    "\n",
    "# reverse is very hard for the current configuration\n",
    "def f_reverse(seq):\n",
    "    t = [0]*len(seq)\n",
    "    for j in range(len(seq)):\n",
    "        t[len(seq)-j-1] = seq[j]\n",
    "    return t\n",
    "\n",
    "def f_swap01(seq):\n",
    "    t = []\n",
    "    for j in range(len(seq)):\n",
    "        if seq[j] == 0:\n",
    "            t.append(0)\n",
    "        else:\n",
    "            t.append(1)\n",
    "    return t\n",
    "\n",
    "def f1(seq):\n",
    "    t = []\n",
    "    for j in range(len(seq)):\n",
    "        if seq[j] == 1 and j > 0 and seq[j-1] == 1:\n",
    "            if j > 3:\n",
    "                t.append(seq[j-2])\n",
    "            else:\n",
    "                t.append(0)\n",
    "        else:\n",
    "            t.append(1)\n",
    "    return t\n",
    "\n",
    "func_to_learn = f_reverse"
   ]
  },
  {
   "cell_type": "code",
   "execution_count": 6,
   "metadata": {
    "collapsed": false
   },
   "outputs": [
    {
     "name": "stdout",
     "output_type": "stream",
     "text": [
      "Number of sequences: 32768\n",
      "[1, 0, 0, 1, 0, 1, 1, 1, 0, 1, 0, 1, 1, 0, 0]\n",
      "[[ 0.  1.]\n",
      " [ 1.  0.]\n",
      " [ 1.  0.]\n",
      " [ 0.  1.]\n",
      " [ 1.  0.]\n",
      " [ 0.  1.]\n",
      " [ 0.  1.]\n",
      " [ 0.  1.]\n",
      " [ 1.  0.]\n",
      " [ 0.  1.]\n",
      " [ 1.  0.]\n",
      " [ 0.  1.]\n",
      " [ 0.  1.]\n",
      " [ 1.  0.]\n",
      " [ 1.  0.]]\n"
     ]
    }
   ],
   "source": [
    "# Create a shuffled list of all binary sequences of length N\n",
    "s = '{0:0' + str(N) + 'b}'\n",
    "seq_input = [s.format(i) for i in range(2**N)]\n",
    "shuffle(seq_input)\n",
    "seq_input = [map(int,i) for i in seq_input]\n",
    "ti = []\n",
    "for i in seq_input:\n",
    "    temp_list = []\n",
    "    for j in i:\n",
    "        temp_list.append(j)\n",
    "    ti.append(temp_list)\n",
    "seq_input = ti\n",
    "\n",
    "print(\"Number of sequences: \" + str(len(seq_input)))\n",
    "print(seq_input[0])\n",
    "# A typical element of seq_input at this point will be an array like\n",
    "# array([[1],[0],[1],[1],[0]])\n",
    "\n",
    "one_hots = []\n",
    "for i in range(num_classes):\n",
    "    a = [0.0]*num_classes\n",
    "    a[i] = 1.0\n",
    "    one_hots.append(np.array(a))\n",
    "\n",
    "seq_input_onehot = []\n",
    "for i in seq_input:\n",
    "    temp_list = []\n",
    "    for j in i:\n",
    "        temp_list.append(one_hots[j])\n",
    "    seq_input_onehot.append(np.array(temp_list))\n",
    "\n",
    "print(seq_input_onehot[0])"
   ]
  },
  {
   "cell_type": "code",
   "execution_count": 7,
   "metadata": {
    "collapsed": false
   },
   "outputs": [
    {
     "name": "stdout",
     "output_type": "stream",
     "text": [
      "[0, 0, 1, 1, 0, 1, 0, 1, 1, 1, 0, 1, 0, 0, 1]\n",
      "[[ 1.  0.]\n",
      " [ 1.  0.]\n",
      " [ 0.  1.]\n",
      " [ 0.  1.]\n",
      " [ 1.  0.]\n",
      " [ 0.  1.]\n",
      " [ 1.  0.]\n",
      " [ 0.  1.]\n",
      " [ 0.  1.]\n",
      " [ 0.  1.]\n",
      " [ 1.  0.]\n",
      " [ 0.  1.]\n",
      " [ 1.  0.]\n",
      " [ 1.  0.]\n",
      " [ 0.  1.]]\n"
     ]
    }
   ],
   "source": [
    "# Training output\n",
    "seq_output = []\n",
    "\n",
    "# Swaps 0s for 1s in each sequence\n",
    "for i in seq_input:\n",
    "    seq_output.append(func_to_learn(i))\n",
    "                    \n",
    "print(seq_output[0])\n",
    "\n",
    "seq_output_onehot = []\n",
    "for i in seq_output:\n",
    "    temp_list = []\n",
    "    for j in i:\n",
    "        temp_list.append(one_hots[j])\n",
    "    seq_output_onehot.append(np.array(temp_list))\n",
    "\n",
    "print(seq_output_onehot[0])"
   ]
  },
  {
   "cell_type": "code",
   "execution_count": 8,
   "metadata": {
    "collapsed": false
   },
   "outputs": [
    {
     "name": "stdout",
     "output_type": "stream",
     "text": [
      "Number of training examples: 3276/32768\n",
      "\n",
      "The first one-hot encoded digit of the first three output sequences\n",
      "[ 0.  1.]\n",
      "[ 1.  0.]\n",
      "[ 1.  0.]\n"
     ]
    }
   ],
   "source": [
    "NUM_EXAMPLES = int(PERCENT_EXAMPLES * len(seq_input))\n",
    "print(\"Number of training examples: \" + str(NUM_EXAMPLES) + \"/\" + str(len(seq_input)))\n",
    "\n",
    "test_input = seq_input_onehot[NUM_EXAMPLES:3*NUM_EXAMPLES]\n",
    "test_output = seq_output_onehot[NUM_EXAMPLES:3*NUM_EXAMPLES]\n",
    "train_input = seq_input_onehot[:NUM_EXAMPLES]\n",
    "train_output = seq_output_onehot[:NUM_EXAMPLES]\n",
    "\n",
    "print(\"\")\n",
    "print(\"The first one-hot encoded digit of the first three output sequences\")\n",
    "print(test_output[0][0])\n",
    "print(test_output[1][0])\n",
    "print(test_output[2][0])"
   ]
  },
  {
   "cell_type": "code",
   "execution_count": 9,
   "metadata": {
    "collapsed": false
   },
   "outputs": [],
   "source": [
    "# Definition of the model\n",
    "\n",
    "# inputs, we create N of them, each of shape [None,input_size], one for\n",
    "# each position in the sequence\n",
    "inputs = [tf.placeholder(tf.float32, [None,input_size]) for _ in range(N)]\n",
    "targets = [tf.placeholder(tf.float32, [None,input_size]) for _ in range(N)]\n",
    "\n",
    "# We use tf.nn.rnn rather than dynamic_rnn because there appears to\n",
    "# be a problem with tf.map_fn and the latter, at least in 0.10\n",
    "# state_size is the number of hidden neurons in each layer\n",
    "cell = LinearLogicRNNCell(state_size)\n",
    "\n",
    "# tf.nn.rnn returns a pair, the first is a list of the\n",
    "# outputs from each step, the second is the final internal state.\n",
    "rnn_outputs, last_state = tf.nn.rnn(cell,inputs,dtype=tf.float32)\n",
    "\n",
    "# Final fully connected layer\n",
    "E = tf.Variable(tf.truncated_normal([state_size,input_size]))\n",
    "F = tf.Variable(tf.constant(0.1, shape=[input_size]))\n",
    "\n",
    "# prediction is a length N list of tensors of shape [None,input_size], where\n",
    "# the jth row of prediction[d] is, for the jth input sequence in the batch,\n",
    "# the probability distribution over symbols for the output symbol in position d.\n",
    "logits = [tf.matmul(rnn_output, E) + F for rnn_output in rnn_outputs]\n",
    "prediction = [tf.nn.softmax(logit) for logit in logits] \n",
    "ce = [tf.reduce_sum(targets[i] * tf.log(prediction[i])) for i in range(N)]\n",
    "\n",
    "cross_entropy = -tf.add_n(ce)\n",
    "optimizer = tf.train.AdamOptimizer()\n",
    "minimize = optimizer.minimize(cross_entropy)\n",
    "\n",
    "mistakes = [tf.not_equal(tf.argmax(targets[i], 1), tf.argmax(prediction[i], 1)) for i in range(N)]\n",
    "errors = [tf.reduce_mean(tf.cast(m, tf.float32)) for m in mistakes]"
   ]
  },
  {
   "cell_type": "code",
   "execution_count": 10,
   "metadata": {
    "collapsed": true
   },
   "outputs": [],
   "source": [
    "# Initialise the model\n",
    "init_op = tf.initialize_all_variables()\n",
    "sess = tf.Session()\n",
    "sess.run(init_op)"
   ]
  },
  {
   "cell_type": "code",
   "execution_count": 11,
   "metadata": {
    "collapsed": false,
    "scrolled": true
   },
   "outputs": [
    {
     "name": "stdout",
     "output_type": "stream",
     "text": [
      "[1 0 0 ..., 0 0 0]\n",
      "[0 0 0 ..., 0 0 0]\n",
      "[ True False False ..., False False False]\n",
      "\n",
      "The mean of the errors in each digit for the test set:\n",
      "[0.49420023, 0.51037854, 0.49404761, 0.50213677, 0.4957265, 0.49343711, 0.497558, 0.51648355, 0.53586692, 0.50427353, 0.49435288, 0.52854091, 0.49832112, 0.48809522, 0.50839436]\n"
     ]
    }
   ],
   "source": [
    "# Display the errors before training\n",
    "feed_dict = {}\n",
    "for d in range(N):\n",
    "    in_node = inputs[d]\n",
    "    out_node = targets[d]\n",
    "    \n",
    "    ti = []\n",
    "    to = []\n",
    "    for k in range(len(test_input)):\n",
    "        ti.append(test_input[k][d]) # A vector giving the one-hot encoding of the dth symbol in the kth sequence\n",
    "        to.append(test_output[k][d])\n",
    "    feed_dict[in_node] = np.array(ti)\n",
    "    feed_dict[out_node] = np.array(to)\n",
    "\n",
    "# The first three digits of this should match the printout for the\n",
    "# first three test output sequences given earlier\n",
    "print(sess.run(tf.argmax(targets[0],1),feed_dict))\n",
    "print(sess.run(tf.argmax(prediction[0],1),feed_dict))\n",
    "print(sess.run(tf.not_equal(tf.argmax(targets[0], 1), tf.argmax(prediction[0], 1)),feed_dict))\n",
    "\n",
    "print(\"\")\n",
    "print(\"The mean of the errors in each digit for the test set:\")\n",
    "incorrects = sess.run(errors, feed_dict)\n",
    "print(incorrects)"
   ]
  },
  {
   "cell_type": "code",
   "execution_count": 12,
   "metadata": {
    "collapsed": false
   },
   "outputs": [
    {
     "name": "stdout",
     "output_type": "stream",
     "text": [
      "Number of batches: 32\n",
      "Epoch - 1\n",
      "Epoch - 2\n",
      "Epoch - 3\n",
      "Epoch - 4\n",
      "Epoch - 5\n",
      "Epoch - 6\n",
      "Epoch - 7\n",
      "Epoch - 8\n",
      "Epoch - 9\n",
      "Epoch - 10\n"
     ]
    }
   ],
   "source": [
    "# Training\n",
    "no_of_batches = int(len(train_input)/batch_size)\n",
    "print(\"Number of batches: \" + str(no_of_batches))\n",
    "\n",
    "# An annoying thing here is that we cannot use a list as a key in a \n",
    "# dictionary. The workaround we found on StackOverflow here:\n",
    "# http://stackoverflow.com/questions/33684657/issue-feeding-a-list-into-feed-dict-in-tensorflow)\n",
    "\n",
    "# epoch is a global var\n",
    "for i in range(epoch):\n",
    "    ptr = 0\n",
    "    for j in range(no_of_batches):\n",
    "        inp = train_input[ptr:ptr+batch_size]\n",
    "        out = train_output[ptr:ptr+batch_size]\n",
    "        ptr += batch_size\n",
    "        \n",
    "        feed_dict = {}\n",
    "        for d in range(N):\n",
    "            in_node = inputs[d]\n",
    "            out_node = targets[d]\n",
    "            \n",
    "            # inp has dimensions [batch_size, N, num_classes] and we want to extract\n",
    "            # the 2D Tensor of shape [batch_size, num_classes] obtained by setting the\n",
    "            # second coordinate to d\n",
    "            ti = []\n",
    "            to = []\n",
    "            for k in range(batch_size):\n",
    "                ti.append(inp[k][d])\n",
    "                to.append(out[k][d])\n",
    "\n",
    "            feed_dict[in_node] = np.array(ti)\n",
    "            feed_dict[out_node] = np.array(to)\n",
    "            \n",
    "        sess.run(minimize, feed_dict)\n",
    "    print(\"Epoch - \" + str(i+1))"
   ]
  },
  {
   "cell_type": "code",
   "execution_count": 13,
   "metadata": {
    "collapsed": false
   },
   "outputs": [
    {
     "name": "stdout",
     "output_type": "stream",
     "text": [
      "First digits of test outputs (actual)\n",
      "[1 0 0 ..., 0 0 0]\n",
      "First digits of test outputs (predicted)\n",
      "[0 0 0 ..., 0 0 0]\n",
      "Cross-entropy: 117365.0\n",
      "[0.49420023, 0.51037854, 0.49404761, 0.49862638, 0.50274724, 0.49420023, 0.49801588, 0.50885224, 0.50595236, 0.4781746, 0.49252138, 0.51663613, 0.50656289, 0.50061053, 0.49328449]\n"
     ]
    }
   ],
   "source": [
    "# Display the errors after training\n",
    "feed_dict = {}\n",
    "for d in range(N):\n",
    "    in_node = inputs[d]\n",
    "    out_node = targets[d]\n",
    "    \n",
    "    ti = []\n",
    "    to = []\n",
    "    for k in range(len(test_input)):\n",
    "        ti.append(test_input[k][d]) # A vector giving the one-hot encoding of the dth symbol in the kth sequence\n",
    "        to.append(test_output[k][d])\n",
    "    feed_dict[in_node] = np.array(ti)\n",
    "    feed_dict[out_node] = np.array(to)\n",
    "\n",
    "# The first three digits of this should match the printout for the\n",
    "# first three test output sequences given earlier\n",
    "data = sess.run([tf.argmax(targets[0],1),\n",
    "                 tf.argmax(prediction[0],1),\n",
    "                 cross_entropy],feed_dict)\n",
    "\n",
    "print(\"First digits of test outputs (actual)\")\n",
    "print(data[0])\n",
    "print(\"First digits of test outputs (predicted)\")\n",
    "print(data[1])\n",
    "print(\"Cross-entropy: \" + str(data[2]))\n",
    "\n",
    "# print the mean of the errors in each digit for the test set.\n",
    "incorrects = sess.run(errors, feed_dict)\n",
    "print(incorrects)\n",
    "\n",
    "sess.close()"
   ]
  },
  {
   "cell_type": "code",
   "execution_count": null,
   "metadata": {
    "collapsed": true
   },
   "outputs": [],
   "source": []
  }
 ],
 "metadata": {
  "anaconda-cloud": {},
  "kernelspec": {
   "display_name": "Python [conda root]",
   "language": "python",
   "name": "conda-root-py"
  },
  "language_info": {
   "codemirror_mode": {
    "name": "ipython",
    "version": 2
   },
   "file_extension": ".py",
   "mimetype": "text/x-python",
   "name": "python",
   "nbconvert_exporter": "python",
   "pygments_lexer": "ipython2",
   "version": "2.7.12"
  }
 },
 "nbformat": 4,
 "nbformat_minor": 0
}
