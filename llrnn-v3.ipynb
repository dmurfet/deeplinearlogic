{
 "cells": [
  {
   "cell_type": "code",
   "execution_count": 1,
   "metadata": {
    "collapsed": true
   },
   "outputs": [],
   "source": [
    "##################################\n",
    "#\n",
    "# Initial implementation of linear logic recurrent neural network\n",
    "#\n",
    "# Many elements borrowed from \"A noob’s guide to implementing RNN-LSTM using Tensorflow\"\n",
    "# see https://gist.github.com/monikkinom/e97d518fe02a79177b081c028a83ec1c\n",
    "#\n",
    "# The architecture is as described in deepll.pdf, the input space is one-dimensional\n",
    "# (plus the bias) and we learn the function which maps a binary sequence of length N\n",
    "# to the sum of its digits.\n",
    "\n",
    "# Global flags\n",
    "batch_size = 10\n",
    "input_size = 1\n",
    "state_size = 24\n",
    "N = 12 # length of sequences\n",
    "NUM_EXAMPLES = 1000 # number of training examples\n",
    "epoch = 20"
   ]
  },
  {
   "cell_type": "code",
   "execution_count": 2,
   "metadata": {
    "collapsed": false
   },
   "outputs": [],
   "source": [
    "# The next three lines are recommend by TF\n",
    "from __future__ import absolute_import\n",
    "from __future__ import division\n",
    "from __future__ import print_function\n",
    "\n",
    "import tensorflow as tf\n",
    "import numpy as np\n",
    "import collections\n",
    "import six\n",
    "import math\n",
    "\n",
    "from random import shuffle\n",
    "from tensorflow.python.ops import variable_scope as vs\n",
    "from tensorflow.python.ops.rnn_cell import _linear\n",
    "from tensorflow.python.ops.rnn_cell import RNNCell\n",
    "from tensorflow.python.ops import array_ops\n",
    "from tensorflow.python.ops import init_ops\n",
    "from tensorflow.python.ops.math_ops import sigmoid\n",
    "from tensorflow.python.ops.math_ops import tanh\n",
    "from tensorflow.python.ops.math_ops import matmul"
   ]
  },
  {
   "cell_type": "code",
   "execution_count": 3,
   "metadata": {
    "collapsed": false
   },
   "outputs": [],
   "source": [
    "# In tf.nn.rnn_cell there is a private function _linear that \n",
    "# we have modified here to be used in our LinearLogicRNNCell\n",
    "\n",
    "# A 2D tensor of shape [X,Y] means a matrix with X rows and Y cols\n",
    "# The row index here is interpreted as indexing into a batch.\n",
    "    \n",
    "class LinearLogicRNNCell(RNNCell):\n",
    "    \n",
    "    def __init__(self, num_units, input_size=None, activation=tanh):\n",
    "        if input_size is not None:\n",
    "            logging.warn(\"%s: The input_size parameter is deprecated.\" % self)\n",
    "        self._num_units = num_units\n",
    "        self._activation = activation\n",
    "    \n",
    "    @property\n",
    "    def state_size(self):\n",
    "        return self._num_units\n",
    "\n",
    "    @property\n",
    "    def output_size(self):\n",
    "        return self._num_units\n",
    "\n",
    "    def __call__(self, inputs, state, scope=None):\n",
    "        # the scope business gives a namespace to our weight variable matrix names\n",
    "        # e.g. \"Program\", \"Matrix\" and \"Bias\"\n",
    "        with vs.variable_scope(scope or \"Linear\"):  # \"BasicRNNCell\"\n",
    "            # Our input is a pair of 2D tensors of shapes [B, U] and [B, V]\n",
    "            # respectively, where B is the batch size, U is the dimension of the\n",
    "            # input space and V is the dimension of the state space (e.g. U = 1)\n",
    "\n",
    "            # array_ops.concat(1,args) is a Tensor of shape [B,U+V]\n",
    "            # which is obtained by stacking the BxU and BxV matrices\n",
    "            # together horizontally to get a Bx(U+V) matrix. We first modify\n",
    "            # args by adding on the end a new matrix which contains higher\n",
    "            # degree monomials in the entries of our input/state tensors. Let\n",
    "            # us write (I) for the input matrix (BxU) and (S) for the state\n",
    "            # matrix (BxV)       \n",
    "\n",
    "            args = [inputs,state]\n",
    "            output_size = self._num_units\n",
    "            \n",
    "            # every row of inputs (resp. state) has length input_size (resp state_size)\n",
    "            prog_weights = vs.get_variable(\"Program\", [(input_size+state_size)**2])\n",
    "            f = lambda x: tf.mul(tf.reshape(tf.matmul(tf.transpose(x),x),[-1]),prog_weights)\n",
    "            h = array_ops.concat(1, args) # (I|S)\n",
    "            h2 = tf.expand_dims(h,1)\n",
    "            h5 = tf.map_fn(f, h2)  \n",
    "                \n",
    "            # Comment out the following line to not add higher monomials\n",
    "            args = args + [h5]\n",
    "            \n",
    "            # Calculate the total size of arguments on dimension 1.\n",
    "            total_arg_size = 0\n",
    "            shapes = [a.get_shape().as_list() for a in args]\n",
    "\n",
    "            for shape in shapes:\n",
    "                total_arg_size += shape[1]           \n",
    "    \n",
    "            matrix = vs.get_variable(\"Matrix\", [total_arg_size, output_size]) # P    \n",
    "            res = matmul(array_ops.concat(1, args), matrix)\n",
    "            bias_term = vs.get_variable(\"Bias\", [output_size], initializer=init_ops.constant_initializer(0.0))\n",
    "\n",
    "            output = self._activation(res + bias_term)\n",
    "        return output, output\n",
    "        # note that as currently written the RNN emits its internal state at\n",
    "        # each time step"
   ]
  },
  {
   "cell_type": "code",
   "execution_count": 4,
   "metadata": {
    "collapsed": false
   },
   "outputs": [
    {
     "name": "stdout",
     "output_type": "stream",
     "text": [
      "Number of sequences: 4096\n",
      "[[1]\n",
      " [0]\n",
      " [1]\n",
      " [1]\n",
      " [1]\n",
      " [0]\n",
      " [0]\n",
      " [0]\n",
      " [1]\n",
      " [1]\n",
      " [0]\n",
      " [0]]\n"
     ]
    }
   ],
   "source": [
    "# Create a shuffled list of all binary sequnces of length N\n",
    "s = '{0:0' + str(N) + 'b}'\n",
    "train_input = [s.format(i) for i in range(2**N)]\n",
    "shuffle(train_input)\n",
    "train_input = [map(int,i) for i in train_input]\n",
    "ti = []\n",
    "for i in train_input:\n",
    "    temp_list = []\n",
    "    for j in i:\n",
    "        temp_list.append([j])\n",
    "    ti.append(np.array(temp_list))\n",
    "train_input = ti\n",
    "\n",
    "print(\"Number of sequences: \" + str(len(train_input)))\n",
    "print(train_input[0])\n",
    "# A typical element of train_input at this point will be an array like\n",
    "# array([[1],[0],[1],[1],[0]])"
   ]
  },
  {
   "cell_type": "code",
   "execution_count": 5,
   "metadata": {
    "collapsed": false
   },
   "outputs": [
    {
     "name": "stdout",
     "output_type": "stream",
     "text": [
      "[0, 0, 0, 0, 0, 0, 1, 0, 0, 0, 0, 0, 0]\n"
     ]
    }
   ],
   "source": [
    "# Training output\n",
    "train_output = []\n",
    "\n",
    "for i in train_input:\n",
    "    count = 0\n",
    "    for j in i:\n",
    "        if j[0] == 1:\n",
    "            count+=1\n",
    "    temp_list = ([0]*(N+1))\n",
    "    temp_list[count]=1\n",
    "    train_output.append(temp_list)\n",
    "        \n",
    "# This matches every sequence in train_input with the one-hot encoded representation\n",
    "# of its classification, that is, e_i where 0 \\le i \\le 20 and i is the number of 1s\n",
    "# that appear in the sequence\n",
    "\n",
    "print(train_output[0])"
   ]
  },
  {
   "cell_type": "code",
   "execution_count": 6,
   "metadata": {
    "collapsed": false
   },
   "outputs": [],
   "source": [
    "test_input = train_input[NUM_EXAMPLES:]\n",
    "test_output = train_output[NUM_EXAMPLES:]\n",
    "train_input = train_input[:NUM_EXAMPLES]\n",
    "train_output = train_output[:NUM_EXAMPLES]"
   ]
  },
  {
   "cell_type": "code",
   "execution_count": 7,
   "metadata": {
    "collapsed": false
   },
   "outputs": [],
   "source": [
    "# Definition of the model\n",
    "\n",
    "# inputs, we create N of them, each of shape [None,1]\n",
    "inputs = [tf.placeholder(tf.float32, [None,1]) for _ in range(N)]\n",
    "target = tf.placeholder(tf.float32, [None,N+1], name='target')\n",
    "\n",
    "# We use tf.nn.rnn rather than dynamic_rnn because there appears to\n",
    "# be a problem with tf.map_fn and the latter, at least in 0.10\n",
    "# state_size is the number of hidden neurons in each layer\n",
    "cell = LinearLogicRNNCell(state_size)\n",
    "\n",
    "# tf.nn.rnn returns a pair, the first is a list of the\n",
    "# outputs from each step, the second is the final internal state.\n",
    "# The way our RNN cell is written, val will be a list of the\n",
    "# internal states at each time step.\n",
    "val, last_state = tf.nn.rnn(cell,inputs,dtype=tf.float32)\n",
    "\n",
    "# We use only the final internal state, which is a 2D tensor\n",
    "# of shape [batch_size,state_size]\n",
    "weight = tf.Variable(tf.truncated_normal([state_size,N+1]))\n",
    "bias = tf.Variable(tf.constant(0.1, shape=[N+1]))\n",
    "\n",
    "# note that + works so that the bias is added to each row\n",
    "# that is, it is the same for each element of the batch\n",
    "prediction = tf.nn.softmax(tf.matmul(last_state, weight) + bias)\n",
    "cross_entropy = -tf.reduce_sum(target * tf.log(prediction))\n",
    "\n",
    "optimizer = tf.train.AdamOptimizer()\n",
    "minimize = optimizer.minimize(cross_entropy)\n",
    "\n",
    "mistakes = tf.not_equal(tf.argmax(target, 1), tf.argmax(prediction, 1))\n",
    "error = tf.reduce_mean(tf.cast(mistakes, tf.float32))\n",
    "                                                        "
   ]
  },
  {
   "cell_type": "code",
   "execution_count": 8,
   "metadata": {
    "collapsed": false,
    "scrolled": true
   },
   "outputs": [
    {
     "name": "stdout",
     "output_type": "stream",
     "text": [
      "Number of batches: 100\n",
      "Epoch - 0\n",
      "Epoch - 1\n",
      "Epoch - 2\n",
      "Epoch - 3\n",
      "Epoch - 4\n",
      "Epoch - 5\n",
      "Epoch - 6\n",
      "Epoch - 7\n",
      "Epoch - 8\n",
      "Epoch - 9\n",
      "Epoch - 10\n",
      "Epoch - 11\n",
      "Epoch - 12\n",
      "Epoch - 13\n",
      "Epoch - 14\n",
      "Epoch - 15\n",
      "Epoch - 16\n",
      "Epoch - 17\n",
      "Epoch - 18\n",
      "Epoch - 19\n",
      "Epoch 20 error 1.0%\n"
     ]
    }
   ],
   "source": [
    "# Initialise the model\n",
    "init_op = tf.initialize_all_variables()\n",
    "sess = tf.Session()\n",
    "sess.run(init_op)\n",
    "\n",
    "# Training\n",
    "no_of_batches = int(len(train_input)/batch_size)\n",
    "print(\"Number of batches: \" + str(no_of_batches))\n",
    "\n",
    "# An annoying thing here is that we cannot use a list as a key in a \n",
    "# dictionary. The workaround we found on StackOverflow here:\n",
    "# http://stackoverflow.com/questions/33684657/issue-feeding-a-list-into-feed-dict-in-tensorflow)\n",
    "\n",
    "# epoch is a global var\n",
    "for i in range(epoch):\n",
    "    ptr = 0\n",
    "    for j in range(no_of_batches):\n",
    "        inp = train_input[ptr:ptr+batch_size]\n",
    "        out = train_output[ptr:ptr+batch_size]\n",
    "        ptr += batch_size\n",
    "        \n",
    "        feed_dict = {target:out}\n",
    "        for d in range(N):\n",
    "            dt = inputs[d]\n",
    "            # dt is the TF graph node where we input the tensor giving one\n",
    "            # of the inputs at a particular time step.\n",
    "            \n",
    "            # inp has dimensions [batch_size, N, 1] and we want to extract\n",
    "            # the 2D Tensor of shape [batch_size,1] obtained by setting the\n",
    "            # second coordinate to d\n",
    "            ti = []\n",
    "            for k in range(batch_size):\n",
    "                ti.append([inp[k][d][0]])\n",
    "\n",
    "            feed_dict[dt] = np.array(ti)\n",
    "            \n",
    "        sess.run(minimize, feed_dict)\n",
    "    print(\"Epoch - \" + str(i))\n",
    "    \n",
    "feed_dict = {target:test_output}\n",
    "for d in range(N):\n",
    "    dt = inputs[d]\n",
    "    ti = []\n",
    "    for k in range(len(test_input)):\n",
    "        ti.append([test_input[k][d][0]])\n",
    "    feed_dict[dt] = np.array(ti)\n",
    "\n",
    "incorrect = sess.run(error, feed_dict)\n",
    "print('Epoch {:2d} error {:3.1f}%'.format(i+1,100 * incorrect))\n",
    "\n",
    "#print(\"Example ----\")\n",
    "#print(train_input[0])\n",
    "#print(\"Correct classification is:\")\n",
    "#print(train_output[0])\n",
    "#print(\"We predicted:\")\n",
    "#print(sess.run(prediction,{data: [train_input[0]]}))\n",
    "\n",
    "sess.close()"
   ]
  },
  {
   "cell_type": "code",
   "execution_count": 9,
   "metadata": {
    "collapsed": false
   },
   "outputs": [],
   "source": [
    "# Very initial experiments\n",
    "# No higher monomials, 20 epochs, ~15%\n",
    "# Higher monomials, 20 epochs, 0.4%"
   ]
  }
 ],
 "metadata": {
  "anaconda-cloud": {},
  "kernelspec": {
   "display_name": "Python [Root]",
   "language": "python",
   "name": "Python [Root]"
  },
  "language_info": {
   "codemirror_mode": {
    "name": "ipython",
    "version": 2
   },
   "file_extension": ".py",
   "mimetype": "text/x-python",
   "name": "python",
   "nbconvert_exporter": "python",
   "pygments_lexer": "ipython2",
   "version": "2.7.12"
  }
 },
 "nbformat": 4,
 "nbformat_minor": 0
}
